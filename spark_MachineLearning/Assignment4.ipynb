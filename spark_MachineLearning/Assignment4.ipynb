{
 "cells": [
  {
   "cell_type": "markdown",
   "metadata": {},
   "source": [
    "Total: 47/50"
   ]
  },
  {
   "cell_type": "markdown",
   "metadata": {},
   "source": [
    "<b>Jim Fitzgerald 819812741 - Assignment 4</b>\n",
    "</br>\n",
    "\n",
    "<hr/>\n",
    "<b>1 Did age have any affect on the survival of the passengers? Divide the passengers into age\n",
    "groups spanning 5 years each - [0, 5), [5, 10), [10, 15), ... . For each group compute thenumber of passengers in each group. Then compute the percent of survivors in each\n",
    "group.</b>"
   ]
  },
  {
   "cell_type": "code",
   "execution_count": 1,
   "metadata": {
    "collapsed": true
   },
   "outputs": [],
   "source": [
    "import org.apache.spark.mllib.rdd.RDDFunctions._\n",
    "import org.apache.spark.sql.functions._\n",
    "import org.apache.spark.ml.feature.Bucketizer\n",
    "import org.apache.spark.sql.DataFrameNaFunctions\n",
    "import org.apache.spark.ml.classification.LogisticRegression\n",
    "import org.apache.spark.ml.feature.RFormula\n",
    "import org.apache.spark.mllib.tree.DecisionTree\n",
    "import org.apache.spark.mllib.tree.model.DecisionTreeModel\n",
    "import org.apache.spark.sql.types.{StructField, StructType, StringType, DoubleType, IntegerType}\n",
    "import org.apache.spark.ml.feature.Binarizer\n"
   ]
  },
  {
   "cell_type": "code",
   "execution_count": 2,
   "metadata": {
    "collapsed": true
   },
   "outputs": [],
   "source": [
    "val schema = new StructType(Array(\n",
    "  new StructField(\"survived\", StringType, true),\n",
    "  new StructField(\"sex\", StringType, true),\n",
    "  new StructField(\"age\", IntegerType, true),\n",
    "  new StructField(\"pclass\", StringType, true),\n",
    "  new StructField(\"name\", StringType, true),\n",
    "  new StructField(\"sibsp\", IntegerType, true),\n",
    "  new StructField(\"parch\", IntegerType, true),    \n",
    "  new StructField(\"ticket\", StringType, true),    \n",
    "  new StructField(\"fare\", DoubleType, true),    \n",
    "  new StructField(\"cabin\", StringType, true),    \n",
    "  new StructField(\"embarked\", StringType, true),    \n",
    "  new StructField(\"boat\", StringType, true),    \n",
    "  new StructField(\"body\", StringType, true),    \n",
    "  new StructField(\"destination\", StringType, true)\n",
    "))\n",
    "\n",
    "val file = \"titanic.tsv\"\n",
    "val reader = spark.read\n",
    "reader.option(\"header\", true)\n",
    "reader.option(\"inferSchema\", true)\n",
    "reader.option(\"delimiter\", \"\\t\")\n",
    "val titanic = reader.csv(file)"
   ]
  },
  {
   "cell_type": "code",
   "execution_count": 3,
   "metadata": {
    "scrolled": false
   },
   "outputs": [
    {
     "name": "stdout",
     "output_type": "stream",
     "text": [
      "+----+-----+---------+------------------+\n",
      "| Age|total|survivors|           percent|\n",
      "+----+-----+---------+------------------+\n",
      "| 0.0|   50|       32|              64.0|\n",
      "| 5.0|   31|       17| 54.83870967741935|\n",
      "|10.0|   27|       11| 40.74074074074074|\n",
      "|15.0|  116|       45|38.793103448275865|\n",
      "|20.0|  184|       71| 38.58695652173913|\n",
      "|25.0|  160|       56|              35.0|\n",
      "|30.0|  132|       54|40.909090909090914|\n",
      "|35.0|  100|       44|              44.0|\n",
      "|40.0|   69|       20|28.985507246376812|\n",
      "|45.0|   66|       32|48.484848484848484|\n",
      "|50.0|   43|       21|48.837209302325576|\n",
      "|55.0|   27|       11| 40.74074074074074|\n",
      "|60.0|   27|       10| 37.03703703703704|\n",
      "|75.0|    1|        1|             100.0|\n",
      "|80.0|    1|        1|             100.0|\n",
      "+----+-----+---------+------------------+\n",
      "\n"
     ]
    }
   ],
   "source": [
    "// create buckets for age\n",
    "val splits = (0 to 100).map(_ * 5.0).toArray\n",
    "val bucketizer = new Bucketizer().\n",
    "    setInputCol(\"age\").\n",
    "    setOutputCol(\"bucket\").\n",
    "    setSplits(splits)\n",
    "\n",
    "// get the totals for each bucket\n",
    "val ages = bucketizer.transform(titanic)\n",
    "var total = ages.selectExpr(\"bucket\", \"age\", \"survived\").\n",
    "    groupBy(\"bucket\").\n",
    "    agg(\n",
    "        count(\"age\").as(\"total\")).\n",
    "    sort(\"bucket\")\n",
    "\n",
    "// get the survivors for each bucket\n",
    "val titanicSurvivor = titanic.filter(\"survived == 'y'\")\n",
    "val survivors = bucketizer.transform(titanicSurvivor)\n",
    "\n",
    "val survivorsOnly = survivors.groupBy(\"bucket\").\n",
    "    agg(\n",
    "        count(\"age\").as(\"survivors\"))\n",
    "\n",
    "val s2 = survivors.where(col(\"survived\") === \"y\")\n",
    "\n",
    "var combined = total.join(survivorsOnly, \"bucket\").\n",
    "    withColumn(\"percent\", survivorsOnly(\"survivors\") / total(\"total\") *100)\n",
    "\n",
    "// combine to \n",
    "val display = combined.selectExpr(\"bucket*5\", \"total\", \"survivors\", \"percent\").\n",
    "    withColumnRenamed(\"(bucket * 5)\", \"Age\")\n",
    "display.show"
   ]
  },
  {
   "cell_type": "code",
   "execution_count": null,
   "metadata": {
    "collapsed": true
   },
   "outputs": [],
   "source": [
    "-1: Determining correlation would have produced accurate results."
   ]
  },
  {
   "cell_type": "markdown",
   "metadata": {
    "collapsed": true
   },
   "source": [
    "<b><em>It seems that children (under 15) have a good chance to survive.  There is a small spike in the 35-40 age range, which most likely would be accounting for the parents of those children.  Elderly had a 100% but with only 1 data point it does not seem like a reliable metric.</em>\n",
    "<hr/>2 Logistic on age. Using logistic regression with independent variable age and dependent\n",
    "variable survived create a model to classify passengers as survivors.</b>"
   ]
  },
  {
   "cell_type": "code",
   "execution_count": null,
   "metadata": {
    "collapsed": true
   },
   "outputs": [],
   "source": []
  },
  {
   "cell_type": "code",
   "execution_count": 4,
   "metadata": {},
   "outputs": [
    {
     "name": "stdout",
     "output_type": "stream",
     "text": [
      "+--------+-----+\n",
      "|survived|count|\n",
      "+--------+-----+\n",
      "|       n|  425|\n",
      "|       y|  317|\n",
      "+--------+-----+\n",
      "\n",
      "Coefficients: [-0.00893438835712649] intercept: -0.025620550568915948\n",
      "+------+--------+--------+-----+--------------------+--------------------+----------+--------------------+\n",
      "|   age|survived|features|label|       rawPrediction|         probability|prediction|binarized_prediction|\n",
      "+------+--------+--------+-----+--------------------+--------------------+----------+--------------------+\n",
      "|0.1667|       y|[0.1667]|  1.0|[0.02710991310804...|[0.50677706321668...|       0.0|                 0.0|\n",
      "|0.6667|       y|[0.6667]|  1.0|[0.03157710728661...|[0.50789362092941...|       0.0|                 0.0|\n",
      "|  0.75|       n|  [0.75]|  0.0|[0.03232134183676...|[0.50807963209291...|       0.0|                 0.0|\n",
      "|0.8333|       y|[0.8333]|  1.0|[0.03306557638690...|[0.50826564101939...|       0.0|                 0.0|\n",
      "|   1.0|       n|   [1.0]|  0.0|[0.03455493892604...|[0.50863787524849...|       0.0|                 0.0|\n",
      "|   1.0|       y|   [1.0]|  1.0|[0.03455493892604...|[0.50863787524849...|       0.0|                 0.0|\n",
      "|   1.0|       y|   [1.0]|  1.0|[0.03455493892604...|[0.50863787524849...|       0.0|                 0.0|\n",
      "|   1.0|       y|   [1.0]|  1.0|[0.03455493892604...|[0.50863787524849...|       0.0|                 0.0|\n",
      "|   2.0|       y|   [2.0]|  1.0|[0.04348932728316...|[0.51087061855516...|       0.0|                 0.0|\n",
      "|   2.0|       y|   [2.0]|  1.0|[0.04348932728316...|[0.51087061855516...|       0.0|                 0.0|\n",
      "|   3.0|       n|   [3.0]|  0.0|[0.05242371564029...|[0.51310292820838...|       0.0|                 0.0|\n",
      "|   4.0|       n|   [4.0]|  0.0|[0.06135810399742...|[0.51533471526823...|       0.0|                 0.0|\n",
      "|   4.0|       y|   [4.0]|  1.0|[0.06135810399742...|[0.51533471526823...|       0.0|                 0.0|\n",
      "|   4.0|       y|   [4.0]|  1.0|[0.06135810399742...|[0.51533471526823...|       0.0|                 0.0|\n",
      "|   4.0|       y|   [4.0]|  1.0|[0.06135810399742...|[0.51533471526823...|       0.0|                 0.0|\n",
      "|   4.0|       y|   [4.0]|  1.0|[0.06135810399742...|[0.51533471526823...|       0.0|                 0.0|\n",
      "|   4.0|       y|   [4.0]|  1.0|[0.06135810399742...|[0.51533471526823...|       0.0|                 0.0|\n",
      "|   5.0|       y|   [5.0]|  1.0|[0.07029249235454...|[0.51756589087814...|       0.0|                 0.0|\n",
      "|   6.0|       n|   [6.0]|  0.0|[0.07922688071167...|[0.51979636627901...|       0.0|                 0.0|\n",
      "|   6.0|       y|   [6.0]|  1.0|[0.07922688071167...|[0.51979636627901...|       0.0|                 0.0|\n",
      "+------+--------+--------+-----+--------------------+--------------------+----------+--------------------+\n",
      "only showing top 20 rows\n",
      "\n"
     ]
    }
   ],
   "source": [
    "// binary - survived or did not\n",
    "\n",
    "//establish training and test data\n",
    "val data = titanic.filter(\"age >= 0\").\n",
    "    select(\"age\", \"survived\")\n",
    "    //withColumnRenamed(\"survived\", \"features\").show()\n",
    "\n",
    "val formula = new RFormula().setFormula(\"survived ~ age\")\n",
    "val fitted = formula.fit(data)\n",
    "val prepared = fitted.transform(data)\n",
    "\n",
    "val Array(train, test) = prepared.randomSplit(Array(0.7,0.3))\n",
    "\n",
    "// to see that training data contains surive and fail\n",
    "train.groupBy(\"survived\").count().show()\n",
    "\n",
    "\n",
    "val lr = new LogisticRegression().\n",
    "    setThreshold(0.5f)\n",
    "val lrModel2 = lr.fit(train)\n",
    "\n",
    "println(s\"Coefficients: ${lrModel2.coefficients} intercept: ${lrModel2.intercept}\")\n",
    "\n",
    "val results2 = lrModel2.evaluate(test).predictions\n",
    "//results2.show()\n",
    "\n",
    "val binarizer: Binarizer = new Binarizer().\n",
    "  setInputCol(\"prediction\").\n",
    "  setOutputCol(\"binarized_prediction\").\n",
    "  setThreshold(0.5)\n",
    "\n",
    "val predictionBinary2 = binarizer.transform(results2) \n",
    "\n",
    "predictionBinary2.show"
   ]
  },
  {
   "cell_type": "code",
   "execution_count": null,
   "metadata": {
    "collapsed": true
   },
   "outputs": [],
   "source": [
    "-1: No need to write comments. Its clear from code."
   ]
  },
  {
   "cell_type": "markdown",
   "metadata": {},
   "source": [
    "<hr/>\n",
    "<b>3 Logistic on age, sex and pclass. Same as problem two but use independent variables sex,\n",
    "age, and pclass. Since sex and pclass are categorical they need special treatment.</b>"
   ]
  },
  {
   "cell_type": "code",
   "execution_count": 5,
   "metadata": {},
   "outputs": [
    {
     "name": "stdout",
     "output_type": "stream",
     "text": [
      "+--------+-----+\n",
      "|survived|count|\n",
      "+--------+-----+\n",
      "|       n|  436|\n",
      "|       y|  301|\n",
      "+--------+-----+\n",
      "\n",
      "+--------+------+------+------+--------------------+\n",
      "|survived|   age|   sex|pclass|binarized_prediction|\n",
      "+--------+------+------+------+--------------------+\n",
      "|       n|0.3333|  male| third|                 0.0|\n",
      "|       n|   2.0|female| third|                 1.0|\n",
      "|       n|   2.0|female| third|                 1.0|\n",
      "|       n|   2.0|  male| third|                 0.0|\n",
      "|       n|   2.0|  male| third|                 0.0|\n",
      "|       n|   4.0|  male| third|                 0.0|\n",
      "|       n|   6.0|  male| third|                 0.0|\n",
      "|       n|   9.0|female| third|                 1.0|\n",
      "|       n|  10.0|female| third|                 1.0|\n",
      "|       n|  11.0|  male| third|                 0.0|\n",
      "|       n|  11.5|  male| third|                 0.0|\n",
      "|       n|  13.0|  male| third|                 0.0|\n",
      "|       n|  14.5|  male| third|                 0.0|\n",
      "|       n|  16.0|  male| third|                 0.0|\n",
      "|       n|  16.0|  male| third|                 0.0|\n",
      "|       n|  17.0|female| third|                 1.0|\n",
      "|       n|  17.0|  male| third|                 0.0|\n",
      "|       n|  17.0|  male| third|                 0.0|\n",
      "|       n|  18.0|female| third|                 1.0|\n",
      "|       n|  18.0|female| third|                 1.0|\n",
      "+--------+------+------+------+--------------------+\n",
      "only showing top 20 rows\n",
      "\n"
     ]
    }
   ],
   "source": [
    "val data = titanic.filter(\"age >= 0\").select(\"survived\", \"age\", \"sex\", \"pclass\")\n",
    "\n",
    "val formula = new RFormula().setFormula(\"survived ~ age + sex + pclass\")\n",
    "val fitted = formula.fit(data)\n",
    "val prepared = fitted.transform(data)\n",
    "\n",
    "val Array(train, test) = prepared.randomSplit(Array(0.7,0.3))\n",
    "\n",
    "// to see that training data contains surive and fail\n",
    "train.groupBy(\"survived\").count().show()\n",
    "\n",
    "\n",
    "val lr = new LogisticRegression()\n",
    "val lrModel3 = lr.fit(train)\n",
    "\n",
    "//println(s\"Coefficients: ${lrModel3.coefficients} intercept: ${lrModel3.intercept}\")\n",
    "\n",
    "val results3 = lrModel3.evaluate(test).predictions\n",
    "//results3.show()\n",
    "\n",
    "val binarizer: Binarizer = new Binarizer().\n",
    "  setInputCol(\"prediction\").\n",
    "  setOutputCol(\"binarized_prediction\").\n",
    "  setThreshold(0.5)\n",
    "\n",
    "val predictionBinary3 = binarizer.transform(results3) \n",
    "\n",
    "predictionBinary3.select(\"survived\", \"age\", \"sex\", \"pclass\", \"binarized_prediction\").show"
   ]
  },
  {
   "cell_type": "markdown",
   "metadata": {},
   "source": [
    "<hr/>\n",
    "<b>4 Decision tree. Instead of using logistic regression use Decision tree with the independent\n",
    "variables sex, age, and pclass.</b>"
   ]
  },
  {
   "cell_type": "code",
   "execution_count": 6,
   "metadata": {},
   "outputs": [
    {
     "name": "stdout",
     "output_type": "stream",
     "text": [
      "+--------+----+------+------+------------------+-----+------------------+--------------------+\n",
      "|survived| age|   sex|pclass|          features|label|        prediction|binarized_prediction|\n",
      "+--------+----+------+------+------------------+-----+------------------+--------------------+\n",
      "|       n| 2.0|  male| third| [2.0,1.0,1.0,0.0]|  0.0|0.3333333333333333|                 0.0|\n",
      "|       n| 2.0|  male| third| [2.0,1.0,1.0,0.0]|  0.0|0.3333333333333333|                 0.0|\n",
      "|       n| 2.0|  male| third| [2.0,1.0,1.0,0.0]|  0.0|0.3333333333333333|                 0.0|\n",
      "|       n| 3.0|female| third| [3.0,0.0,1.0,0.0]|  0.0|0.4782608695652174|                 0.0|\n",
      "|       n| 4.0|  male| third| [4.0,1.0,1.0,0.0]|  0.0|              0.25|                 0.0|\n",
      "|       n| 7.0|  male| third| [7.0,1.0,1.0,0.0]|  0.0|              0.25|                 0.0|\n",
      "|       n| 9.0|female| third| [9.0,0.0,1.0,0.0]|  0.0|0.4782608695652174|                 0.0|\n",
      "|       n| 9.0|female| third| [9.0,0.0,1.0,0.0]|  0.0|0.4782608695652174|                 0.0|\n",
      "|       n| 9.0|  male| third| [9.0,1.0,1.0,0.0]|  0.0|0.4444444444444444|                 0.0|\n",
      "|       n| 9.0|  male| third| [9.0,1.0,1.0,0.0]|  0.0|0.4444444444444444|                 0.0|\n",
      "|       n|11.0|female| third|[11.0,0.0,1.0,0.0]|  0.0|0.4782608695652174|                 0.0|\n",
      "|       n|11.0|  male| third|[11.0,1.0,1.0,0.0]|  0.0|0.4444444444444444|                 0.0|\n",
      "|       n|11.0|  male| third|[11.0,1.0,1.0,0.0]|  0.0|0.4444444444444444|                 0.0|\n",
      "|       n|13.0|  male| third|[13.0,1.0,1.0,0.0]|  0.0|0.4444444444444444|                 0.0|\n",
      "|       n|14.0|  male| third|[14.0,1.0,1.0,0.0]|  0.0|0.1595744680851064|                 0.0|\n",
      "|       n|14.5|  male| third|[14.5,1.0,1.0,0.0]|  0.0|0.1595744680851064|                 0.0|\n",
      "|       n|16.0|female| third|[16.0,0.0,1.0,0.0]|  0.0|0.4782608695652174|                 0.0|\n",
      "|       n|16.0|  male|second|[16.0,1.0,0.0,0.0]|  0.0|0.1595744680851064|                 0.0|\n",
      "|       n|16.0|  male| third|[16.0,1.0,1.0,0.0]|  0.0|0.1595744680851064|                 0.0|\n",
      "|       n|16.0|  male| third|[16.0,1.0,1.0,0.0]|  0.0|0.1595744680851064|                 0.0|\n",
      "+--------+----+------+------+------------------+-----+------------------+--------------------+\n",
      "only showing top 20 rows\n",
      "\n",
      "total : 327\n",
      "label1 : 119\n"
     ]
    },
    {
     "data": {
      "text/plain": [
       "Name: Syntax Error.\n",
       "Message: \n",
       "StackTrace: "
      ]
     },
     "execution_count": 6,
     "metadata": {},
     "output_type": "execute_result"
    }
   ],
   "source": [
    "import org.apache.spark.ml.regression.DecisionTreeRegressionModel\n",
    "import org.apache.spark.ml.regression.DecisionTreeRegressor\n",
    "import org.apache.spark.ml.feature.Binarizer\n",
    "\n",
    "val data = titanic.filter(\"age >= 0\").select(\"survived\", \"age\", \"sex\", \"pclass\")\n",
    "\n",
    "val formula = new RFormula().setFormula(\"survived ~ age + sex + pclass\")\n",
    "val fitted = formula.fit(data)\n",
    "val prepared = fitted.transform(data)\n",
    "\n",
    "val Array(train, test) = prepared.randomSplit(Array(0.7,0.3))\n",
    "\n",
    "val dt = new DecisionTreeRegressor().setLabelCol(\"label\").setFeaturesCol(\"features\")\n",
    "\n",
    "val model = dt.fit(train)\n",
    "\n",
    "val predictions4 = model.transform(test)\n",
    "//predictions4 gives decimal not binary - binarize\n",
    "\n",
    "\n",
    "val binarizer: Binarizer = new Binarizer().\n",
    "  setInputCol(\"prediction\").\n",
    "  setOutputCol(\"binarized_prediction\").\n",
    "  setThreshold(0.5)\n",
    "\n",
    "val predictionBinary4 = binarizer.transform(predictions4) \n",
    "\n",
    "predictionBinary4.show()\n",
    "\n",
    "println(\"total : \" + predictionBinary4.count)\n",
    "println(\"label1 : \" + predictionBinary4.filter(\"label==1.0\").count)\n",
    "println(\"predict1 : \" + predictionBinary4.filter(\"binarized_prediction==1.0\".count)\n",
    "println(\"total : \" + predictionBinary4.count)"
   ]
  },
  {
   "cell_type": "markdown",
   "metadata": {},
   "source": [
    "<hr/>\n",
    "<b>5. How do the models created in problems 2-4 compare based on the false positives & false\n",
    "negatives the produce on your test data.</b>"
   ]
  },
  {
   "cell_type": "code",
   "execution_count": 7,
   "metadata": {
    "collapsed": true
   },
   "outputs": [],
   "source": [
    "def matrix(tp: Double, tn: Double, fp: Double, fn: Double)={\n",
    "    print(\"\\t\\tPredicted\\n\\t\\tY\\tN\\n\")\n",
    "    print(\"Actual\\tY\")\n",
    "    print(\"\\t\" + tp + \"\\t\" + fn + \"\\n\\tN\\t\" + fp + \"\\t\" + tn + \"\\n\\n\")\n",
    "}"
   ]
  },
  {
   "cell_type": "code",
   "execution_count": 8,
   "metadata": {
    "collapsed": true
   },
   "outputs": [],
   "source": [
    "import org.apache.spark.sql.DataFrame\n",
    "\n",
    "def printMatrix(tp: Double, tn: Double, fp: Double, fn: Double)={\n",
    "    print(\"\\t\\tPredicted\\n\\t\\tY\\tN\\n\")\n",
    "    print(\"Actual\\tY\")\n",
    "    print(\"\\t\" + tp + \"\\t\" + fn + \"\\n\\tN\\t\" + fp + \"\\t\" + tn + \"\\n\\n\")\n",
    "}\n",
    "\n",
    "// Accuracy How often is the model correct\n",
    "def accuracy(tp: Double, tn: Double, total: Double):Double={\n",
    "    val accuracy = (tp + tn)/total*100\n",
    "    println(\"Accuracy: \" + accuracy)\n",
    "    return accuracy\n",
    "}\n",
    "\n",
    "// Misclassification Rate How often is the model wrong\n",
    "def missclassification(fp: Double, fn: Double, total:Double):Double = {\n",
    "    val missclassify = (fp + fn)/total*100\n",
    "    println(\"Missclassification: \" + missclassify)\n",
    "    return missclassify\n",
    "}\n",
    "\n",
    "// True Positive Rate or Sensitivity or Recall When actually admit (yes) how often does model predict admit (yes)\n",
    "def sensitivity(tp:Double, ap:Double):Double = {\n",
    "    val sense = tp/ap*100\n",
    "    println(\"Sensitivity: \" + sense)\n",
    "    return sense\n",
    "}\n",
    "\n",
    "// False Positive Rate When it's actually no (deny), how often does it predict yes (admit)\n",
    "def fpRate(fp:Double, an:Double):Double = {\n",
    "    val fpR = fp/an*100\n",
    "    println(\"FP Rate: \" + fpR)\n",
    "    return fpR\n",
    "}\n",
    "\n",
    "// Specificity When it's actually no, how often does it predict no\n",
    "def specificity(tn:Double, an:Double):Double = {\n",
    "    val spec = tn/an*100\n",
    "    println(\"Specificity: \" + spec)\n",
    "    return spec\n",
    "}\n",
    "\n",
    "// Precision When it predicts yes, how often is it correct\n",
    "def precision(tp:Double, pp:Double):Double = {\n",
    "    val prec = tp/pp*100\n",
    "    println(\"Precision: \" + prec)\n",
    "    return prec\n",
    "}\n",
    "\n",
    "// Prevalence How often does the yes condition actually occur in our sample\n",
    "def prevalence(ap:Double, total:Double):Double = {\n",
    "    val prev = ap/total*100\n",
    "    println(\"Prevalence: \" + prev)\n",
    "    return prev\n",
    "}\n",
    "\n",
    "def wrong(df: DataFrame) ={\n",
    "    val wrongPredictions = df.where(expr(\"label != binarized_prediction\"))\n",
    "    val countErrors = wrongPredictions.groupBy(\"label\").agg(count(\"prediction\").alias(\"Errors\"))\n",
    "    countErrors.show\n",
    "}\n",
    "\n",
    "def right(df: DataFrame)={\n",
    "    val correctPredictions = df.where(expr(\"label == binarized_prediction\"))\n",
    "    val countCorrectPredictions = correctPredictions.groupBy(\"label\").agg(count(\"prediction\").alias(\"Correct\"))\n",
    "    countCorrectPredictions.show\n",
    "}"
   ]
  },
  {
   "cell_type": "code",
   "execution_count": 10,
   "metadata": {
    "collapsed": true
   },
   "outputs": [],
   "source": [
    "import org.apache.spark.sql.DataFrame\n",
    "\n",
    "// gives results for a dataframe\n",
    "// boolean controls long form (all data analysis)\n",
    "// false for shorter - just matrix, accuracy and missclassifcation\n",
    "def analysis(df :DataFrame, long:Boolean) ={\n",
    "    // extract tp, tn, fp, fn\n",
    "    val tp = df.filter(\"label == 1.0\").filter(\"binarized_prediction == 1.0\").count\n",
    "    val tn = df.filter(\"label == 0.0\").filter(\"binarized_prediction == 0.0\").count\n",
    "    // false positive -- predict survive but didnt\n",
    "    val fp = df.filter(\"label == 0.0\").filter(\"binarized_prediction == 1.0\").count\n",
    "    //false negative -- survive, but predict not\n",
    "    val fn = df.filter(\"label == 1.0\").filter(\"binarized_prediction == 0.0\").count\n",
    "    val total = tp + fp + tn + fn\n",
    "    // ap, an, pp\n",
    "    val ap = df.filter(\"label == 1.0\").count\n",
    "    val an = df.filter(\"label == 0.0\").count\n",
    "    val pp = df.filter(\"prediction == 1.0\").count\n",
    "    \n",
    "    printMatrix(tp, tn, fp, fn)\n",
    "    accuracy(tp, tn, total)\n",
    "    missclassification(fp, fn, total)\n",
    "    wrong(df)\n",
    "    right(df)\n",
    "    if (long){\n",
    "        sensitivity(tp, ap)\n",
    "        fpRate(fp,an)\n",
    "        specificity(tn, an)\n",
    "        precision(tp, pp)\n",
    "        prevalence(ap, total)\n",
    "    }    \n",
    "}"
   ]
  },
  {
   "cell_type": "code",
   "execution_count": 11,
   "metadata": {},
   "outputs": [
    {
     "name": "stdout",
     "output_type": "stream",
     "text": [
      "Results from #2 - logistic regression of age only\n",
      "\t\tPredicted\n",
      "\t\tY\tN\n",
      "Actual\tY\t0.0\t109.0\n",
      "\tN\t0.0\t194.0\n",
      "\n",
      "Accuracy: 64.02640264026402\n",
      "Missclassification: 35.973597359735976\n",
      "+-----+------+\n",
      "|label|Errors|\n",
      "+-----+------+\n",
      "|  1.0|   109|\n",
      "+-----+------+\n",
      "\n",
      "+-----+-------+\n",
      "|label|Correct|\n",
      "+-----+-------+\n",
      "|  0.0|    194|\n",
      "+-----+-------+\n",
      "\n",
      "Sensitivity: 0.0\n",
      "FP Rate: 0.0\n",
      "Specificity: 100.0\n",
      "Precision: NaN\n",
      "Prevalence: 35.973597359735976\n"
     ]
    },
    {
     "data": {
      "text/plain": [
       "35.973597359735976"
      ]
     },
     "execution_count": 11,
     "metadata": {},
     "output_type": "execute_result"
    }
   ],
   "source": [
    "println(\"Results from #2 - logistic regression of age only\")\n",
    "analysis(predictionBinary2, true)"
   ]
  },
  {
   "cell_type": "code",
   "execution_count": null,
   "metadata": {
    "collapsed": true
   },
   "outputs": [],
   "source": [
    "-1: False positives is expected to be non-zero."
   ]
  },
  {
   "cell_type": "code",
   "execution_count": 12,
   "metadata": {},
   "outputs": [
    {
     "name": "stdout",
     "output_type": "stream",
     "text": [
      "results from #3 - logisitic regression of age, sex and pclass\n",
      "\t\tPredicted\n",
      "\t\tY\tN\n",
      "Actual\tY\t88.0\t37.0\n",
      "\tN\t29.0\t154.0\n",
      "\n",
      "Accuracy: 78.57142857142857\n",
      "Missclassification: 21.428571428571427\n",
      "+-----+------+\n",
      "|label|Errors|\n",
      "+-----+------+\n",
      "|  0.0|    29|\n",
      "|  1.0|    37|\n",
      "+-----+------+\n",
      "\n",
      "+-----+-------+\n",
      "|label|Correct|\n",
      "+-----+-------+\n",
      "|  0.0|    154|\n",
      "|  1.0|     88|\n",
      "+-----+-------+\n",
      "\n",
      "Sensitivity: 70.39999999999999\n",
      "FP Rate: 15.846994535519126\n",
      "Specificity: 84.15300546448088\n",
      "Precision: 75.21367521367522\n",
      "Prevalence: 40.58441558441558\n"
     ]
    },
    {
     "data": {
      "text/plain": [
       "40.58441558441558"
      ]
     },
     "execution_count": 12,
     "metadata": {},
     "output_type": "execute_result"
    }
   ],
   "source": [
    "println(\"results from #3 - logisitic regression of age, sex and pclass\")\n",
    "analysis(predictionBinary3, true)"
   ]
  },
  {
   "cell_type": "code",
   "execution_count": 13,
   "metadata": {},
   "outputs": [
    {
     "name": "stdout",
     "output_type": "stream",
     "text": [
      "results from #4 - decision tree of age, sex and pclass\n",
      "\t\tPredicted\n",
      "\t\tY\tN\n",
      "Actual\tY\t64.0\t55.0\n",
      "\tN\t13.0\t195.0\n",
      "\n",
      "Accuracy: 79.20489296636084\n",
      "Missclassification: 20.795107033639145\n",
      "+-----+------+\n",
      "|label|Errors|\n",
      "+-----+------+\n",
      "|  0.0|    13|\n",
      "|  1.0|    55|\n",
      "+-----+------+\n",
      "\n",
      "+-----+-------+\n",
      "|label|Correct|\n",
      "+-----+-------+\n",
      "|  0.0|    195|\n",
      "|  1.0|     64|\n",
      "+-----+-------+\n",
      "\n",
      "Sensitivity: 53.78151260504202\n",
      "FP Rate: 6.25\n",
      "Specificity: 93.75\n",
      "Precision: 3200.0\n",
      "Prevalence: 36.391437308868504\n"
     ]
    },
    {
     "data": {
      "text/plain": [
       "36.391437308868504"
      ]
     },
     "execution_count": 13,
     "metadata": {},
     "output_type": "execute_result"
    }
   ],
   "source": [
    "println(\"results from #4 - decision tree of age, sex and pclass\")\n",
    "analysis(predictionBinary4, true)"
   ]
  },
  {
   "cell_type": "markdown",
   "metadata": {},
   "source": [
    "<b><em>Analysis: Age alone is a very poor classifier for survivors.  Although a 50% accuracy rate appears high - it is simply due to predicting non-survivors (a broken clock, or guessing exclusively False in a True/False exam).\n",
    "\n",
    "Adding additional classifiers - sex and class - helps improve our accuracy.  This makes sense, as we add more features, we are better able to classify the data.\n",
    "\n",
    "There doesn't appear to be a significant difference between Logistic Regression and Decision Tree results.  They have been between 75-80% accuracy.  Unfortunately, both seem to have more False Positives (telling people they will survive when they won't) than False Negatives (telling people they won't survive and then they do).</b></em>"
   ]
  },
  {
   "cell_type": "code",
   "execution_count": null,
   "metadata": {
    "collapsed": true
   },
   "outputs": [],
   "source": []
  }
 ],
 "metadata": {
  "kernelspec": {
   "display_name": "Scala",
   "language": "scala",
   "name": "scala"
  },
  "language_info": {
   "codemirror_mode": "text/x-scala",
   "file_extension": ".scala",
   "mimetype": "text/x-scala",
   "name": "scala211",
   "nbconvert_exporter": "script",
   "pygments_lexer": "scala",
   "version": "2.11.11"
  }
 },
 "nbformat": 4,
 "nbformat_minor": 2
}
